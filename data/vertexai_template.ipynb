pip install google-generativeai

import google.generativeai as genai
import vertexai
from vertexai.language_models import ChatModel

vertexai.init(project="ai-medterp-01", location="us-central1")